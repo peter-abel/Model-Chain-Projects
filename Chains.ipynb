{
  "nbformat": 4,
  "nbformat_minor": 0,
  "metadata": {
    "colab": {
      "provenance": [],
      "authorship_tag": "ABX9TyMq3AtCL9So20BDktx+zAOO",
      "include_colab_link": true
    },
    "kernelspec": {
      "name": "python3",
      "display_name": "Python 3"
    },
    "language_info": {
      "name": "python"
    }
  },
  "cells": [
    {
      "cell_type": "markdown",
      "metadata": {
        "id": "view-in-github",
        "colab_type": "text"
      },
      "source": [
        "<a href=\"https://colab.research.google.com/github/peter-abel/Model-Chain-Projects/blob/main/Chains.ipynb\" target=\"_parent\"><img src=\"https://colab.research.google.com/assets/colab-badge.svg\" alt=\"Open In Colab\"/></a>"
      ]
    },
    {
      "cell_type": "markdown",
      "source": [
        "#Installing Dependencies"
      ],
      "metadata": {
        "id": "hsI6h04Dg04x"
      }
    },
    {
      "cell_type": "code",
      "execution_count": null,
      "metadata": {
        "id": "IAAz423qgY3q"
      },
      "outputs": [],
      "source": [
        "!pip install langchain\n",
        "!pip install openai\n",
        "!pip install pinecone-client\n",
        "!pip install jq\n",
        "!pip install tiktoken"
      ]
    },
    {
      "cell_type": "markdown",
      "source": [
        "#Importing Dependencies"
      ],
      "metadata": {
        "id": "GSXI9Bg0hCMQ"
      }
    },
    {
      "cell_type": "code",
      "source": [
        "from langchain.vectorstores import Pinecone\n",
        "from langchain.embeddings import OpenAIEmbeddings\n",
        "import pinecone\n",
        "from langchain.document_loaders import JSONLoader\n",
        "from langchain.text_splitter import RecursiveCharacterTextSplitter"
      ],
      "metadata": {
        "id": "DeHpn2DXhSZJ"
      },
      "execution_count": null,
      "outputs": []
    },
    {
      "cell_type": "markdown",
      "source": [
        "#API keys and Env"
      ],
      "metadata": {
        "id": "QJktQ8xgsH_4"
      }
    },
    {
      "cell_type": "code",
      "source": [
        "openai_api_key = ''\n",
        "\n",
        "PINECONE_API_KEY = ''\n",
        "\n",
        "PINECONE_API_ENV = ''"
      ],
      "metadata": {
        "id": "DLTyCHMqsDm3"
      },
      "execution_count": null,
      "outputs": []
    },
    {
      "cell_type": "code",
      "source": [
        "import json\n",
        "from pathlib import Path\n",
        "from pprint import pprint\n",
        "\n",
        "\n",
        "file_path='/content/Customer data.json'\n",
        "data = json.loads(Path(file_path).read_text())"
      ],
      "metadata": {
        "id": "pgUZz6pLg0LW"
      },
      "execution_count": null,
      "outputs": []
    },
    {
      "cell_type": "code",
      "source": [],
      "metadata": {
        "id": "eTY7EDq-taQ-"
      },
      "execution_count": null,
      "outputs": []
    },
    {
      "cell_type": "code",
      "source": [
        "pprint(data[:5])"
      ],
      "metadata": {
        "colab": {
          "base_uri": "https://localhost:8080/"
        },
        "id": "Vk9Xvuv2j4xk",
        "outputId": "98101bcd-5292-43b4-f45f-e2f0c506f76a"
      },
      "execution_count": null,
      "outputs": [
        {
          "output_type": "stream",
          "name": "stdout",
          "text": [
            "[{'Ethnicity': 'White',\n",
            "  'Location': 'Guararapes',\n",
            "  'Occupation': 'Nuclear Power Engineer',\n",
            "  'email': 'pmacmaster0@bandcamp.com',\n",
            "  'first_name': 'Prince',\n",
            "  'gender': 'Male',\n",
            "  'id': 1,\n",
            "  'ip_address': '208.24.50.172',\n",
            "  'last_name': 'MacMaster'},\n",
            " {'Ethnicity': 'Tongan',\n",
            "  'Location': 'Fram',\n",
            "  'Occupation': 'Health Coach II',\n",
            "  'email': 'csantori1@wisc.edu',\n",
            "  'first_name': 'Caryl',\n",
            "  'gender': 'Female',\n",
            "  'id': 2,\n",
            "  'ip_address': '151.160.135.93',\n",
            "  'last_name': 'Santori'},\n",
            " {'Ethnicity': 'Delaware',\n",
            "  'Location': 'Bandera',\n",
            "  'Occupation': 'VP Product Management',\n",
            "  'email': 'ccadle2@flavors.me',\n",
            "  'first_name': 'Cort',\n",
            "  'gender': 'Male',\n",
            "  'id': 3,\n",
            "  'ip_address': '196.150.14.252',\n",
            "  'last_name': 'Cadle'},\n",
            " {'Ethnicity': 'Vietnamese',\n",
            "  'Location': 'Ciechocin',\n",
            "  'Occupation': 'Assistant Media Planner',\n",
            "  'email': 'pchampagne3@ft.com',\n",
            "  'first_name': 'Peg',\n",
            "  'gender': 'Female',\n",
            "  'id': 4,\n",
            "  'ip_address': '74.183.119.175',\n",
            "  'last_name': 'Champagne'},\n",
            " {'Ethnicity': 'Yakama',\n",
            "  'Location': 'Longwei',\n",
            "  'Occupation': 'Developer III',\n",
            "  'email': 'bfrandsen4@cargocollective.com',\n",
            "  'first_name': 'Beverie',\n",
            "  'gender': 'Female',\n",
            "  'id': 5,\n",
            "  'ip_address': '235.124.253.241',\n",
            "  'last_name': 'Frandsen'}]\n"
          ]
        }
      ]
    },
    {
      "cell_type": "markdown",
      "source": [
        "#Embedding the documents Using Pinecone"
      ],
      "metadata": {
        "id": "TfgzML3IpXkm"
      }
    },
    {
      "cell_type": "code",
      "source": [
        "# Get embedding engine ready\n",
        "embeddings = OpenAIEmbeddings(openai_api_key=openai_api_key)\n",
        "\n",
        "# initialize pinecone\n",
        "pinecone.init(\n",
        "    api_key=PINECONE_API_KEY,  # find at app.pinecone.io\n",
        "    environment=PINECONE_API_ENV  # next to api key in console\n",
        ")\n",
        "index_name = \"chatbot\" # put in the name of your pinecone index here"
      ],
      "metadata": {
        "id": "XOO93ul3pie8"
      },
      "execution_count": null,
      "outputs": []
    }
  ]
}